{
 "cells": [
  {
   "cell_type": "markdown",
   "metadata": {},
   "source": [
    "# Softmax exercise\n",
    "(Adapted from Stanford University's CS231n Open Courseware)\n",
    "\n",
    "*Complete and hand in this completed worksheet (including its outputs and any supporting code outside of the worksheet) with your assignment submission. For more details see the [HW page](http://kovan.ceng.metu.edu.tr/~sinan/DL/index.html) on the course website.*\n",
    "\n",
    "This exercise is analogous to the SVM exercise. You will:\n",
    "\n",
    "- implement a fully-vectorized **loss function** for the Softmax classifier\n",
    "- implement the fully-vectorized expression for its **analytic gradient**\n",
    "- **check your implementation** with numerical gradient\n",
    "- use a validation set to **tune the learning rate and regularization** strength\n",
    "- **optimize** the loss function with **SGD**\n",
    "- **visualize** the final learned weights\n"
   ]
  },
  {
   "cell_type": "code",
   "execution_count": 1,
   "metadata": {
    "collapsed": true,
    "jupyter": {
     "outputs_hidden": true
    }
   },
   "outputs": [],
   "source": [
    "import random\n",
    "import numpy as np\n",
    "from cs231n.data_utils import load_CIFAR10\n",
    "import matplotlib.pyplot as plt\n",
    "%matplotlib inline\n",
    "plt.rcParams['figure.figsize'] = (10.0, 8.0) # set default size of plots\n",
    "plt.rcParams['image.interpolation'] = 'nearest'\n",
    "plt.rcParams['image.cmap'] = 'gray'\n",
    "\n",
    "# for auto-reloading extenrnal modules\n",
    "# see http://stackoverflow.com/questions/1907993/autoreload-of-modules-in-ipython\n",
    "%load_ext autoreload\n",
    "%autoreload 2"
   ]
  },
  {
   "cell_type": "code",
   "execution_count": 2,
   "metadata": {},
   "outputs": [
    {
     "name": "stdout",
     "output_type": "stream",
     "text": [
      "Train data shape:  (3073, 49000)\n",
      "Train labels shape:  (49000,)\n",
      "Validation data shape:  (3073, 1000)\n",
      "Validation labels shape:  (1000,)\n",
      "Test data shape:  (3073, 1000)\n",
      "Test labels shape:  (1000,)\n"
     ]
    }
   ],
   "source": [
    "def get_CIFAR10_data(num_training=18000, num_validation=1000, num_test=1000): # train 18000\n",
    "#Increase training if you have memory:\n",
    "#def get_CIFAR10_data(num_training=49000, num_validation=1000, num_test=1000):\n",
    "    \"\"\"\n",
    "    Load the CIFAR-10 dataset from disk and perform preprocessing to prepare\n",
    "    it for the linear classifier. These are the same steps as we used for the\n",
    "    SVM, but condensed to a single function.  \n",
    "    \"\"\"\n",
    "    # Load the raw CIFAR-10 data\n",
    "    cifar10_dir = 'cs231n/datasets/cifar-10-batches-py'\n",
    "    X_train, y_train, X_test, y_test = load_CIFAR10(cifar10_dir,num_of_batches=6)\n",
    "    # Increase num_of_batches to 6 if you have sufficient memory\n",
    "\n",
    "    # subsample the data\n",
    "    mask = range(num_training, num_training + num_validation)\n",
    "    X_val = X_train[mask]\n",
    "    y_val = y_train[mask]\n",
    "    mask = range(num_training)\n",
    "    X_train = X_train[mask]\n",
    "    y_train = y_train[mask]\n",
    "    mask = range(num_test)\n",
    "    X_test = X_test[mask]\n",
    "    y_test = y_test[mask]\n",
    "\n",
    "    # Preprocessing: reshape the image data into rows\n",
    "    X_train = np.reshape(X_train, (X_train.shape[0], -1))\n",
    "    X_val = np.reshape(X_val, (X_val.shape[0], -1))\n",
    "    X_test = np.reshape(X_test, (X_test.shape[0], -1))\n",
    "\n",
    "    # Normalize the data: subtract the mean image\n",
    "    mean_image = np.mean(X_train, axis = 0)\n",
    "    X_train -= mean_image\n",
    "    X_val -= mean_image\n",
    "    X_test -= mean_image\n",
    "\n",
    "    # add bias dimension and transform into columns\n",
    "    X_train = np.hstack([X_train, np.ones((X_train.shape[0], 1))]).T\n",
    "    X_val = np.hstack([X_val, np.ones((X_val.shape[0], 1))]).T\n",
    "    X_test = np.hstack([X_test, np.ones((X_test.shape[0], 1))]).T\n",
    "\n",
    "    return X_train, y_train, X_val, y_val, X_test, y_test\n",
    "\n",
    "\n",
    "# Invoke the above function to get our data.\n",
    "X_train, y_train, X_val, y_val, X_test, y_test = get_CIFAR10_data(num_training=49000, num_validation=1000, num_test=1000)\n",
    "print ('Train data shape: ', X_train.shape)\n",
    "print ('Train labels shape: ', y_train.shape)\n",
    "print ('Validation data shape: ', X_val.shape)\n",
    "print ('Validation labels shape: ', y_val.shape)\n",
    "print ('Test data shape: ', X_test.shape)\n",
    "print ('Test labels shape: ', y_test.shape)"
   ]
  },
  {
   "cell_type": "markdown",
   "metadata": {},
   "source": [
    "## Softmax Classifier\n",
    "\n",
    "Your code for this section will all be written inside **cs231n/classifiers/softmax.py**. \n"
   ]
  },
  {
   "cell_type": "code",
   "execution_count": 3,
   "metadata": {},
   "outputs": [
    {
     "name": "stdout",
     "output_type": "stream",
     "text": [
      "loss: 2.381026\n",
      "sanity check: 2.302585\n"
     ]
    }
   ],
   "source": [
    "# First implement the naive softmax loss function with nested loops.\n",
    "# Open the file cs231n/classifiers/softmax.py and implement the\n",
    "# softmax_loss_naive function.\n",
    "\n",
    "from cs231n.classifiers.softmax import softmax_loss_naive\n",
    "import time\n",
    "\n",
    "# Generate a random softmax weight matrix and use it to compute the loss.\n",
    "W = np.random.randn(10, 3073) * 0.0001\n",
    "loss, grad = softmax_loss_naive(W, X_train, y_train, 0.0)\n",
    "\n",
    "# As a rough sanity check, our loss should be something close to -log(0.1).\n",
    "print ('loss: %f' % loss)\n",
    "print ('sanity check: %f' % (-np.log(0.1)))"
   ]
  },
  {
   "cell_type": "markdown",
   "metadata": {},
   "source": [
    "## Inline Question 1:\n",
    "Why do we expect our loss to be close to -log(0.1)? Explain briefly.**\n",
    "\n",
    "**Your answer:** *We fill our weight matrix randomly so the weights should produce equaly distributed probability for classes. We have 10 classes, so the probability of one class should be 0.1*\n"
   ]
  },
  {
   "cell_type": "code",
   "execution_count": 4,
   "metadata": {},
   "outputs": [
    {
     "name": "stdout",
     "output_type": "stream",
     "text": [
      "numerical: -4.851401 analytic: -4.851401, relative error: 5.306442e-09\n",
      "numerical: -3.897963 analytic: -3.897963, relative error: 8.479590e-09\n",
      "numerical: -0.503264 analytic: -0.503264, relative error: 5.561533e-09\n",
      "numerical: -0.819451 analytic: -0.819451, relative error: 4.246987e-08\n",
      "numerical: -3.292668 analytic: -3.292668, relative error: 4.712214e-09\n",
      "numerical: 1.764114 analytic: 1.764114, relative error: 8.427555e-10\n",
      "numerical: 0.496205 analytic: 0.496205, relative error: 3.510261e-08\n",
      "numerical: 2.327660 analytic: 2.327660, relative error: 1.818955e-08\n",
      "numerical: 1.463807 analytic: 1.463806, relative error: 3.900957e-08\n",
      "numerical: 0.960930 analytic: 0.960930, relative error: 8.254712e-08\n"
     ]
    }
   ],
   "source": [
    "# Complete the implementation of softmax_loss_naive and implement a (naive)\n",
    "# version of the gradient that uses nested loops.\n",
    "loss, grad = softmax_loss_naive(W, X_train, y_train, 0.0)\n",
    "\n",
    "# As we did for the SVM, use numeric gradient checking as a debugging tool.\n",
    "# The numeric gradient should be close to the analytic gradient.\n",
    "from cs231n.gradient_check import grad_check_sparse\n",
    "f = lambda w: softmax_loss_naive(w, X_train, y_train, 0.0)[0]\n",
    "grad_numerical = grad_check_sparse(f, W, grad, 10)"
   ]
  },
  {
   "cell_type": "code",
   "execution_count": 5,
   "metadata": {},
   "outputs": [
    {
     "name": "stdout",
     "output_type": "stream",
     "text": [
      "naive loss: 2.381026e+00 computed in 16.118229s\n",
      "vectorized loss: 2.381026e+00 computed in 1.897278s\n",
      "Loss difference: 0.000000\n",
      "Gradient difference: 0.000000\n"
     ]
    }
   ],
   "source": [
    "# Now that we have a naive implementation of the softmax loss function and its gradient,\n",
    "# implement a vectorized version in softmax_loss_vectorized.\n",
    "# The two versions should compute the same results, but the vectorized version should be\n",
    "# much faster.\n",
    "tic = time.time()\n",
    "loss_naive, grad_naive = softmax_loss_naive(W, X_train, y_train, 0.00001)\n",
    "toc = time.time()\n",
    "print ('naive loss: %e computed in %fs' % (loss_naive, toc - tic))\n",
    "\n",
    "from cs231n.classifiers.softmax import softmax_loss_vectorized\n",
    "tic = time.time()\n",
    "loss_vectorized, grad_vectorized = softmax_loss_vectorized(W, X_train, y_train, 0.00001)\n",
    "toc = time.time()\n",
    "print ('vectorized loss: %e computed in %fs' % (loss_vectorized, toc - tic))\n",
    "\n",
    "# As we did for the SVM, we use the Frobenius norm to compare the two versions\n",
    "# of the gradient.\n",
    "grad_difference = np.linalg.norm(grad_naive - grad_vectorized, ord='fro')\n",
    "print ('Loss difference: %f' % np.abs(loss_naive - loss_vectorized))\n",
    "print ('Gradient difference: %f' % grad_difference)"
   ]
  },
  {
   "cell_type": "code",
   "execution_count": 9,
   "metadata": {},
   "outputs": [
    {
     "name": "stdout",
     "output_type": "stream",
     "text": [
      "lr:  4.288804750802729e-08  reg:  97293.17351198065  loss:  2.14976947218  acc:  0.307408163265  val_acc:  0.325\n",
      "lr:  4.288804750802729e-08  reg:  50013.70083508931  loss:  3.30209896157  acc:  0.327102040816  val_acc:  0.339\n",
      "lr:  4.288804750802729e-08  reg:  19739.92290956379  loss:  25.7462169405  acc:  0.28093877551  val_acc:  0.278\n",
      "lr:  2.412559626312562e-07  reg:  97293.17351198065  loss:  2.10089688267  acc:  0.306387755102  val_acc:  0.32\n",
      "lr:  2.412559626312562e-07  reg:  50013.70083508931  loss:  2.07589764469  acc:  0.324857142857  val_acc:  0.349\n",
      "lr:  2.412559626312562e-07  reg:  19739.92290956379  loss:  1.93763482444  acc:  0.357775510204  val_acc:  0.365\n",
      "lr:  1.5686784652678434e-07  reg:  97293.17351198065  loss:  2.16492963308  acc:  0.302897959184  val_acc:  0.327\n",
      "lr:  1.5686784652678434e-07  reg:  50013.70083508931  loss:  2.0617954529  acc:  0.32193877551  val_acc:  0.344\n",
      "lr:  1.5686784652678434e-07  reg:  19739.92290956379  loss:  1.94590545171  acc:  0.356653061224  val_acc:  0.367\n",
      "lr 4.288805e-08 reg 1.973992e+04 train accuracy: 0.280939 val accuracy: 0.278000\n",
      "lr 4.288805e-08 reg 5.001370e+04 train accuracy: 0.327102 val accuracy: 0.339000\n",
      "lr 4.288805e-08 reg 9.729317e+04 train accuracy: 0.307408 val accuracy: 0.325000\n",
      "lr 1.568678e-07 reg 1.973992e+04 train accuracy: 0.356653 val accuracy: 0.367000\n",
      "lr 1.568678e-07 reg 5.001370e+04 train accuracy: 0.321939 val accuracy: 0.344000\n",
      "lr 1.568678e-07 reg 9.729317e+04 train accuracy: 0.302898 val accuracy: 0.327000\n",
      "lr 2.412560e-07 reg 1.973992e+04 train accuracy: 0.357776 val accuracy: 0.365000\n",
      "lr 2.412560e-07 reg 5.001370e+04 train accuracy: 0.324857 val accuracy: 0.349000\n",
      "lr 2.412560e-07 reg 9.729317e+04 train accuracy: 0.306388 val accuracy: 0.320000\n",
      "best validation accuracy achieved during cross-validation: 0.367000\n"
     ]
    }
   ],
   "source": [
    "# Use the validation set to tune hyperparameters (regularization strength and\n",
    "# learning rate). You should experiment with different ranges for the learning\n",
    "# rates and regularization strengths; if you are careful you should be able to\n",
    "# get a classification accuracy of over 0.35 on the validation set.\n",
    "from cs231n.classifiers import Softmax\n",
    "results = {}\n",
    "best_val = -1\n",
    "best_softmax = None\n",
    "learning_rates = [] #[1e-7, 5e-7]\n",
    "regularization_strengths = [] #[5e4, 1e8]\n",
    "\n",
    "################################################################################\n",
    "# TODO:                                                                        #\n",
    "# Use the validation set to set the learning rate and regularization strength. #\n",
    "# This should be identical to the validation that you did for the SVM; save    #\n",
    "# the best trained softmax classifer in best_softmax.                          #\n",
    "################################################################################\n",
    "for i in range(3):\n",
    "    lr = 10 ** np.random.uniform(-7.5, -6.5) #(-8, -6)\n",
    "    reg = 10 ** np.random.uniform(4, 5) #(3, 6)\n",
    "    learning_rates.append(lr)\n",
    "    regularization_strengths.append(reg)\n",
    "\n",
    "for lr in learning_rates:\n",
    "    for reg in regularization_strengths:\n",
    "        softmax = Softmax()\n",
    "        loss_hist = softmax.train(X_train, y_train, learning_rate=lr, \n",
    "                      reg=reg, num_iters=1500, verbose=False)\n",
    "        \n",
    "        \n",
    "        # accurecies\n",
    "        y_train_pred = softmax.predict(X_train)\n",
    "        train_acc = np.mean(y_train == y_train_pred)\n",
    "        \n",
    "        y_val_pred = softmax.predict(X_val)\n",
    "        val_acc = np.mean(y_val == y_val_pred)\n",
    "        \n",
    "        \n",
    "        if (best_val < val_acc or best_val == -1):\n",
    "            best_val = val_acc\n",
    "            best_softmax = softmax\n",
    "        \n",
    "        print('lr: ', lr, ' reg: ', reg, ' loss: ', loss_hist[-1], ' acc: ', train_acc, ' val_acc: ', val_acc)\n",
    "        \n",
    "        results[(lr, reg)] = (train_acc, val_acc)\n",
    "################################################################################\n",
    "#                              END OF YOUR CODE                                #\n",
    "################################################################################\n",
    "    \n",
    "# Print out results.\n",
    "for lr, reg in sorted(results):\n",
    "    train_accuracy, val_accuracy = results[(lr, reg)]\n",
    "    print ('lr %e reg %e train accuracy: %f val accuracy: %f' % (\n",
    "                lr, reg, train_accuracy, val_accuracy))\n",
    "    \n",
    "print ('best validation accuracy achieved during cross-validation: %f' % best_val)"
   ]
  },
  {
   "cell_type": "markdown",
   "metadata": {},
   "source": [
    "- lr 1.568678e-07 reg 1.973992e+04 train accuracy: 0.356653 val accuracy: 0.367000\n",
    "- lr 2.412560e-07 reg 1.973992e+04 train accuracy: 0.357776 val accuracy: 0.365000\n",
    "- lr 2.412560e-07 reg 5.001370e+04 train accuracy: 0.324857 val accuracy: 0.349000"
   ]
  },
  {
   "cell_type": "code",
   "execution_count": 9,
   "metadata": {},
   "outputs": [
    {
     "name": "stdout",
     "output_type": "stream",
     "text": [
      "lr:  1.568678e-07  reg:  19739.92  loss:  1.96113482743  acc:  0.359428571429  val_acc:  0.376\n"
     ]
    }
   ],
   "source": [
    "from cs231n.classifiers import Softmax\n",
    "lr =1.568678e-07\n",
    "reg = 1.973992e+04\n",
    "softmax = Softmax()\n",
    "loss_hist = softmax.train(X_train, y_train, learning_rate=lr, \n",
    "              reg=reg, num_iters=1500, verbose=False)\n",
    "\n",
    "\n",
    "# accurecies\n",
    "y_train_pred = softmax.predict(X_train)\n",
    "train_acc = np.mean(y_train == y_train_pred)\n",
    "\n",
    "y_val_pred = softmax.predict(X_val)\n",
    "val_acc = np.mean(y_val == y_val_pred)\n",
    "\n",
    "best_val = val_acc\n",
    "best_softmax = softmax\n",
    "\n",
    "print('lr: ', lr, ' reg: ', reg, ' loss: ', loss_hist[-1], ' acc: ', train_acc, ' val_acc: ', val_acc)"
   ]
  },
  {
   "cell_type": "code",
   "execution_count": 10,
   "metadata": {},
   "outputs": [
    {
     "name": "stdout",
     "output_type": "stream",
     "text": [
      "softmax on raw pixels final test set accuracy: 0.368000\n"
     ]
    }
   ],
   "source": [
    "# evaluate on test set\n",
    "# Evaluate the best svm on test set\n",
    "y_test_pred = best_softmax.predict(X_test)\n",
    "test_accuracy = np.mean(y_test == y_test_pred)\n",
    "print ('softmax on raw pixels final test set accuracy: %f' % (test_accuracy, ))"
   ]
  },
  {
   "cell_type": "code",
   "execution_count": 11,
   "metadata": {},
   "outputs": [
    {
     "data": {
      "image/png": "[encoded data removed]",
      "text/plain": [
       "<matplotlib.figure.Figure at 0x7fe7087e3748>"
      ]
     },
     "metadata": {},
     "output_type": "display_data"
    }
   ],
   "source": [
    "# Visualize the learned weights for each class\n",
    "w = best_softmax.W[:,:-1] # strip out the bias\n",
    "w = w.reshape(10, 32, 32, 3)\n",
    "\n",
    "w_min, w_max = np.min(w), np.max(w)\n",
    "\n",
    "classes = ['plane', 'car', 'bird', 'cat', 'deer', 'dog', 'frog', 'horse', 'ship', 'truck']\n",
    "for i in range(10):\n",
    "    plt.subplot(2, 5, i + 1)\n",
    "    # Rescale the weights to be between 0 and 255\n",
    "    wimg = 255.0 * (w[i].squeeze() - w_min) / (w_max - w_min)\n",
    "    plt.imshow(wimg.astype('uint8'))\n",
    "    plt.axis('off')\n",
    "    plt.title(classes[i])"
   ]
  }
 ],
 "metadata": {
  "kernelspec": {
   "display_name": "Python 3",
   "language": "python",
   "name": "python3"
  },
  "language_info": {
   "codemirror_mode": {
    "name": "ipython",
    "version": 3
   },
   "file_extension": ".py",
   "mimetype": "text/x-python",
   "name": "python",
   "nbconvert_exporter": "python",
   "pygments_lexer": "ipython3",
   "version": "3.7.4"
  }
 },
 "nbformat": 4,
 "nbformat_minor": 4
}
