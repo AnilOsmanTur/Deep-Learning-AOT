{
 "cells": [
  {
   "cell_type": "code",
   "execution_count": 1,
   "metadata": {
    "collapsed": true
   },
   "outputs": [],
   "source": [
    "import numpy as np\n",
    "import matplotlib.pyplot as plt"
   ]
  },
  {
   "cell_type": "code",
   "execution_count": 2,
   "metadata": {},
   "outputs": [
    {
     "name": "stdout",
     "output_type": "stream",
     "text": [
      "[ 0.  0.  0.  0.]  shape:  (4,)\n"
     ]
    }
   ],
   "source": [
    "z = np.zeros(4)\n",
    "print(z, ' shape: ', z.shape)"
   ]
  },
  {
   "cell_type": "code",
   "execution_count": 3,
   "metadata": {},
   "outputs": [
    {
     "name": "stdout",
     "output_type": "stream",
     "text": [
      "[[-12.03483731   2.11039163 -17.00551938]\n",
      " [  5.92935466 -20.11390534 -17.61213855]]  shape:  (2, 3)\n"
     ]
    }
   ],
   "source": [
    "a = np.random.randn(2, 3) * 10\n",
    "print(a, ' shape: ', a.shape)"
   ]
  },
  {
   "cell_type": "code",
   "execution_count": 4,
   "metadata": {},
   "outputs": [
    {
     "name": "stdout",
     "output_type": "stream",
     "text": [
      "[[False  True False]\n",
      " [ True False False]]\n",
      "(2, 3)\n",
      "[-26.92996506 -31.79668923]\n",
      "(2,)\n",
      "[[-26.92996506]\n",
      " [-31.79668923]]\n",
      "[[-0.         -0.03713336 -0.        ]\n",
      " [-0.03144982 -0.         -0.        ]]\n"
     ]
    }
   ],
   "source": [
    "a_mask = a>0\n",
    "print(a_mask)\n",
    "print(a_mask.shape)\n",
    "sum_a = np.sum(a, axis=1)\n",
    "print(sum_a)\n",
    "print(sum_a.shape)\n",
    "print(np.array([sum_a]).T)\n",
    "print (a_mask / np.array([sum_a]).T)"
   ]
  },
  {
   "cell_type": "code",
   "execution_count": 9,
   "metadata": {},
   "outputs": [
    {
     "name": "stdout",
     "output_type": "stream",
     "text": [
      "[[-12.03483731   2.11039163 -17.00551938]\n",
      " [  5.92935466 -20.11390534 -17.61213855]]\n",
      "[[ 144.83730908    4.45375282  289.18768937]\n",
      " [  35.15724671  404.56918793  310.18742431]]\n",
      "1188.39261023\n"
     ]
    }
   ],
   "source": [
    "print(a)\n",
    "print(np.power(a,2))\n",
    "b = a * a\n",
    "print(np.sum(b))"
   ]
  },
  {
   "cell_type": "code",
   "execution_count": 3,
   "metadata": {
    "collapsed": true
   },
   "outputs": [],
   "source": [
    "import h5py\n",
    "import tables"
   ]
  },
  {
   "cell_type": "code",
   "execution_count": 6,
   "metadata": {},
   "outputs": [
    {
     "name": "stdout",
     "output_type": "stream",
     "text": [
      "<HDF5 dataset \"b\": shape (61000, 3), type \"<f8\">\n"
     ]
    }
   ],
   "source": [
    "arrays = []\n",
    "with h5py.File('./metu/dataset/Part_1.mat', 'r') as f:\n",
    "    root = f['Part_1']\n",
    "    ref1 = root[0][0]\n",
    "    data = f[ref1]\n",
    "    print(data)"
   ]
  },
  {
   "cell_type": "code",
   "execution_count": 7,
   "metadata": {
    "collapsed": true
   },
   "outputs": [],
   "source": [
    "file = tables.open_file('./metu/dataset/Part_1.mat')\n",
    "root = file.root"
   ]
  },
  {
   "cell_type": "code",
   "execution_count": 8,
   "metadata": {},
   "outputs": [
    {
     "name": "stdout",
     "output_type": "stream",
     "text": [
      "3000\n",
      "(3000, 1)\n",
      "(1,)\n"
     ]
    }
   ],
   "source": [
    "#print(root.Part_1)\n",
    "array = root.Part_1[0][0]\n",
    "dataSet = root.Part_1\n",
    "print(root.Part_1.shape[0])\n",
    "print(dataSet.shape)\n",
    "print(dataSet[1].shape)"
   ]
  },
  {
   "cell_type": "code",
   "execution_count": 9,
   "metadata": {},
   "outputs": [
    {
     "name": "stdout",
     "output_type": "stream",
     "text": [
      "(50000, 3)\n"
     ]
    }
   ],
   "source": [
    "print(dataSet[2][0][0].shape)"
   ]
  },
  {
   "cell_type": "code",
   "execution_count": 11,
   "metadata": {},
   "outputs": [
    {
     "name": "stdout",
     "output_type": "stream",
     "text": [
      "(50000,)\n"
     ]
    }
   ],
   "source": [
    "data = dataSet[2][0][0]\n",
    "print(data[:,0].shape)"
   ]
  },
  {
   "cell_type": "code",
   "execution_count": 4,
   "metadata": {
    "collapsed": true
   },
   "outputs": [],
   "source": [
    "ppg_ind = 0\n",
    "abg_ind = 1\n",
    "\n",
    "X = []\n",
    "Y = []\n",
    "\n",
    "file_pt = tables.open_file('./metu/dataset/Part_1.mat')\n",
    "data_heap = file_pt.root.Part_1\n",
    "train_size = data_heap.shape[0]\n",
    "for ind in range(train_size):\n",
    "    data = data_heap[ind][0][0]\n",
    "    X.append(data[:,ppg_ind])\n",
    "    Y.append(data[:,abg_ind])\n",
    "X = np.array(X)\n",
    "Y = np.array(Y)"
   ]
  },
  {
   "cell_type": "code",
   "execution_count": 13,
   "metadata": {},
   "outputs": [
    {
     "name": "stdout",
     "output_type": "stream",
     "text": [
      "[ 2.40957967  2.32942326  2.23851417 ...,  1.24046921  1.23069404\n",
      "  1.21994135]\n",
      "(3000,)\n"
     ]
    }
   ],
   "source": [
    "print(X[1])\n",
    "print(Y.shape)"
   ]
  },
  {
   "cell_type": "code",
   "execution_count": 2,
   "metadata": {
    "collapsed": true
   },
   "outputs": [],
   "source": [
    "from scipy import signal\n",
    "wavelet = signal.ricker\n",
    "widths = np.arange(1, 11)"
   ]
  },
  {
   "cell_type": "code",
   "execution_count": 17,
   "metadata": {
    "scrolled": true
   },
   "outputs": [
    {
     "name": "stdout",
     "output_type": "stream",
     "text": [
      "(1, 14) (1, 15)\n",
      "144.77066879 70.9530391848\n"
     ]
    }
   ],
   "source": [
    "idx = 5\n",
    "window = 1000\n",
    "widths = np.arange(1, 50)\n",
    "inds1 = signal.find_peaks_cwt(Y[idx][:window], widths)\n",
    "inds2 = signal.find_peaks_cwt(-Y[idx][:window], widths)\n",
    "print(np.array([inds2]).shape, np.array([inds1]).shape)\n",
    "mean1 = np.mean(Y[idx][inds1])\n",
    "mean2 = np.mean(Y[idx][inds2])\n",
    "print(mean1, mean2)"
   ]
  },
  {
   "cell_type": "code",
   "execution_count": 22,
   "metadata": {},
   "outputs": [
    {
     "name": "stdout",
     "output_type": "stream",
     "text": [
      "(21000,)\n"
     ]
    }
   ],
   "source": [
    "signal_size = X[idx].shape[0]\n",
    "print(signal_size)"
   ]
  },
  {
   "cell_type": "code",
   "execution_count": 16,
   "metadata": {},
   "outputs": [
    {
     "data": {
      "image/png": "[encoded data removed]",
      "text/plain": [
       "<matplotlib.figure.Figure at 0x7f32c0e38400>"
      ]
     },
     "metadata": {},
     "output_type": "display_data"
    }
   ],
   "source": [
    "plt.plot(Y[idx][:window])\n",
    "plt.plot([mean1,mean2], 'o')\n",
    "plt.show()"
   ]
  },
  {
   "cell_type": "code",
   "execution_count": 9,
   "metadata": {
    "collapsed": true
   },
   "outputs": [],
   "source": [
    "file_pt.close()"
   ]
  },
  {
   "cell_type": "code",
   "execution_count": 45,
   "metadata": {},
   "outputs": [
    {
     "data": {
      "image/png": "[encoded data removed]",
      "text/plain": [
       "<matplotlib.figure.Figure at 0x7fa4c2b8a898>"
      ]
     },
     "metadata": {},
     "output_type": "display_data"
    }
   ],
   "source": [
    "plt.plot(data)\n",
    "plt.plot(peakind, data[peakind], 'o')\n",
    "plt.show()"
   ]
  },
  {
   "cell_type": "code",
   "execution_count": null,
   "metadata": {
    "collapsed": true
   },
   "outputs": [],
   "source": []
  }
 ],
 "metadata": {
  "kernelspec": {
   "display_name": "Python 3",
   "language": "python",
   "name": "python3"
  },
  "language_info": {
   "codemirror_mode": {
    "name": "ipython",
    "version": 3
   },
   "file_extension": ".py",
   "mimetype": "text/x-python",
   "name": "python",
   "nbconvert_exporter": "python",
   "pygments_lexer": "ipython3",
   "version": "3.6.2"
  }
 },
 "nbformat": 4,
 "nbformat_minor": 2
}
